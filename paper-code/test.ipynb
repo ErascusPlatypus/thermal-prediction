{
 "cells": [
  {
   "cell_type": "code",
   "execution_count": 1,
   "metadata": {},
   "outputs": [],
   "source": [
    "import pandas as pd"
   ]
  },
  {
   "cell_type": "code",
   "execution_count": 2,
   "metadata": {},
   "outputs": [
    {
     "name": "stderr",
     "output_type": "stream",
     "text": [
      "/tmp/ipykernel_5686/2191792461.py:1: DtypeWarning: Columns (0,1,2,3,4,5,6,7,8,9,10,11,12,13,14,15,16,17,18,19,20,21,22,23,24,25) have mixed types. Specify dtype option on import or set low_memory=False.\n",
      "  df = pd.read_csv('../datasets/server_Temp_integrate.csv', nrows=800000)\n"
     ]
    }
   ],
   "source": [
    "df = pd.read_csv('../datasets/server_Temp_integrate.csv', nrows=800000)"
   ]
  },
  {
   "cell_type": "code",
   "execution_count": 3,
   "metadata": {},
   "outputs": [
    {
     "data": {
      "text/plain": [
       "Index(['weekday', 'voltaje', 'corriente', 'potencia', 'frecuencia', 'energia',\n",
       "       'fp', 'ESP32_temp', 'WORKSTATION_CPU', 'WORKSTATION_CPU_POWER',\n",
       "       'WORKSTATION_CPU_TEMP', 'WORKSTATION_GPU', 'WORKSTATION_GPU_POWER',\n",
       "       'WORKSTATION_GPU_TEMP', 'WORKSTATION_RAM', 'WORKSTATION_RAM_POWER',\n",
       "       'temp', 'dwpt', 'rhum', 'prcp', 'wdir', 'wspd', 'wpgt', 'pres', 'coco',\n",
       "       'Server_temp'],\n",
       "      dtype='object')"
      ]
     },
     "execution_count": 3,
     "metadata": {},
     "output_type": "execute_result"
    }
   ],
   "source": [
    "df.columns"
   ]
  },
  {
   "cell_type": "code",
   "execution_count": 4,
   "metadata": {},
   "outputs": [],
   "source": [
    "df = df.rename(columns={\n",
    "    'voltaje': 'Voltage (V)',\n",
    "    'corriente': 'Currennt (A)',\n",
    "    'potencia': 'Power (PA) - Watts (W)',\n",
    "    'frecuencia': 'Frecuency - Hertz (Hz)',\n",
    "    'energia': 'Active Energy - kilowatts per hour (KWh)',\n",
    "    'fp': 'Power factor - Adimentional',\n",
    "    'ESP32_temp': 'ESP32 temperature - Centigrade Degrees (°C)',\n",
    "    'WORKSTATION_CPU': 'CPU consumption - Percentage (%)',\n",
    "    'WORKSTATION_CPU_POWER': 'CPU power consumption - Percentage (%)',\n",
    "    'WORKSTATION_CPU_TEMP': 'CPU temperature - Centigrade Degrees (°C)',\n",
    "    'WORKSTATION_GPU': 'GPU consumption - Percentage (%)',\n",
    "    'WORKSTATION_GPU_POWER': 'GPU power consumption - Percentage (%)',\n",
    "    'WORKSTATION_GPU_TEMP': 'GPU temperature - Centigrade Degrees (°C)',\n",
    "    'WORKSTATION_RAM': 'RAM memory consumption - Percentage (%)',\n",
    "    'WORKSTATION_RAM_POWER': 'RAM memory power consumption - Percentage (%)'\n",
    "})"
   ]
  },
  {
   "cell_type": "code",
   "execution_count": 5,
   "metadata": {},
   "outputs": [
    {
     "data": {
      "text/plain": [
       "Index(['weekday', 'Voltage (V)', 'Currennt (A)', 'Power (PA) - Watts (W)',\n",
       "       'Frecuency - Hertz (Hz)', 'Active Energy - kilowatts per hour (KWh)',\n",
       "       'Power factor - Adimentional',\n",
       "       'ESP32 temperature - Centigrade Degrees (°C)',\n",
       "       'CPU consumption - Percentage (%)',\n",
       "       'CPU power consumption - Percentage (%)',\n",
       "       'CPU temperature - Centigrade Degrees (°C)',\n",
       "       'GPU consumption - Percentage (%)',\n",
       "       'GPU power consumption - Percentage (%)',\n",
       "       'GPU temperature - Centigrade Degrees (°C)',\n",
       "       'RAM memory consumption - Percentage (%)',\n",
       "       'RAM memory power consumption - Percentage (%)', 'temp', 'dwpt', 'rhum',\n",
       "       'prcp', 'wdir', 'wspd', 'wpgt', 'pres', 'coco', 'Server_temp'],\n",
       "      dtype='object')"
      ]
     },
     "execution_count": 5,
     "metadata": {},
     "output_type": "execute_result"
    }
   ],
   "source": [
    "df.columns"
   ]
  },
  {
   "cell_type": "code",
   "execution_count": 6,
   "metadata": {},
   "outputs": [],
   "source": [
    "drop_cols = ['temp', 'dwpt', 'rhum',\n",
    "       'prcp', 'wdir', 'wspd', 'wpgt', 'pres', 'coco']"
   ]
  },
  {
   "cell_type": "code",
   "execution_count": 7,
   "metadata": {},
   "outputs": [
    {
     "data": {
      "text/plain": [
       "Index(['weekday', 'Voltage (V)', 'Currennt (A)', 'Power (PA) - Watts (W)',\n",
       "       'Frecuency - Hertz (Hz)', 'Active Energy - kilowatts per hour (KWh)',\n",
       "       'Power factor - Adimentional',\n",
       "       'ESP32 temperature - Centigrade Degrees (°C)',\n",
       "       'CPU consumption - Percentage (%)',\n",
       "       'CPU power consumption - Percentage (%)',\n",
       "       'CPU temperature - Centigrade Degrees (°C)',\n",
       "       'GPU consumption - Percentage (%)',\n",
       "       'GPU power consumption - Percentage (%)',\n",
       "       'GPU temperature - Centigrade Degrees (°C)',\n",
       "       'RAM memory consumption - Percentage (%)',\n",
       "       'RAM memory power consumption - Percentage (%)', 'Server_temp'],\n",
       "      dtype='object')"
      ]
     },
     "execution_count": 7,
     "metadata": {},
     "output_type": "execute_result"
    }
   ],
   "source": [
    "df.drop(columns=drop_cols, inplace=True)\n",
    "df.columns"
   ]
  },
  {
   "cell_type": "code",
   "execution_count": 8,
   "metadata": {},
   "outputs": [
    {
     "data": {
      "text/html": [
       "<div>\n",
       "<style scoped>\n",
       "    .dataframe tbody tr th:only-of-type {\n",
       "        vertical-align: middle;\n",
       "    }\n",
       "\n",
       "    .dataframe tbody tr th {\n",
       "        vertical-align: top;\n",
       "    }\n",
       "\n",
       "    .dataframe thead th {\n",
       "        text-align: right;\n",
       "    }\n",
       "</style>\n",
       "<table border=\"1\" class=\"dataframe\">\n",
       "  <thead>\n",
       "    <tr style=\"text-align: right;\">\n",
       "      <th></th>\n",
       "      <th>weekday</th>\n",
       "      <th>Voltage (V)</th>\n",
       "      <th>Currennt (A)</th>\n",
       "      <th>Power (PA) - Watts (W)</th>\n",
       "      <th>Frecuency - Hertz (Hz)</th>\n",
       "      <th>Active Energy - kilowatts per hour (KWh)</th>\n",
       "      <th>Power factor - Adimentional</th>\n",
       "      <th>ESP32 temperature - Centigrade Degrees (°C)</th>\n",
       "      <th>CPU consumption - Percentage (%)</th>\n",
       "      <th>CPU power consumption - Percentage (%)</th>\n",
       "      <th>CPU temperature - Centigrade Degrees (°C)</th>\n",
       "      <th>GPU consumption - Percentage (%)</th>\n",
       "      <th>GPU power consumption - Percentage (%)</th>\n",
       "      <th>GPU temperature - Centigrade Degrees (°C)</th>\n",
       "      <th>RAM memory consumption - Percentage (%)</th>\n",
       "      <th>RAM memory power consumption - Percentage (%)</th>\n",
       "      <th>Server_temp</th>\n",
       "    </tr>\n",
       "  </thead>\n",
       "  <tbody>\n",
       "    <tr>\n",
       "      <th>0</th>\n",
       "      <td>weekday</td>\n",
       "      <td>voltaje</td>\n",
       "      <td>corriente</td>\n",
       "      <td>potencia</td>\n",
       "      <td>frecuencia</td>\n",
       "      <td>energia</td>\n",
       "      <td>fp</td>\n",
       "      <td>ESP32_temp</td>\n",
       "      <td>WORKSTATION_CPU</td>\n",
       "      <td>WORKSTATION_CPU_POWER</td>\n",
       "      <td>WORKSTATION_CPU_TEMP</td>\n",
       "      <td>WORKSTATION_GPU</td>\n",
       "      <td>WORKSTATION_GPU_POWER</td>\n",
       "      <td>WORKSTATION_GPU_TEMP</td>\n",
       "      <td>WORKSTATION_RAM</td>\n",
       "      <td>WORKSTATION_RAM_POWER</td>\n",
       "      <td>Server_temp</td>\n",
       "    </tr>\n",
       "    <tr>\n",
       "      <th>1</th>\n",
       "      <td>4</td>\n",
       "      <td>120.1</td>\n",
       "      <td>0.93</td>\n",
       "      <td>96.3</td>\n",
       "      <td>60.0</td>\n",
       "      <td>1.16</td>\n",
       "      <td>0.86</td>\n",
       "      <td>0</td>\n",
       "      <td>0</td>\n",
       "      <td>0</td>\n",
       "      <td>0</td>\n",
       "      <td>0</td>\n",
       "      <td>0</td>\n",
       "      <td>0</td>\n",
       "      <td>0</td>\n",
       "      <td>0</td>\n",
       "      <td>0.0</td>\n",
       "    </tr>\n",
       "    <tr>\n",
       "      <th>2</th>\n",
       "      <td>4</td>\n",
       "      <td>120.1</td>\n",
       "      <td>0.93</td>\n",
       "      <td>96.3</td>\n",
       "      <td>59.9</td>\n",
       "      <td>1.16</td>\n",
       "      <td>0.86</td>\n",
       "      <td>0</td>\n",
       "      <td>0</td>\n",
       "      <td>0</td>\n",
       "      <td>0</td>\n",
       "      <td>0</td>\n",
       "      <td>0</td>\n",
       "      <td>0</td>\n",
       "      <td>0</td>\n",
       "      <td>0</td>\n",
       "      <td>0.0</td>\n",
       "    </tr>\n",
       "    <tr>\n",
       "      <th>3</th>\n",
       "      <td>4</td>\n",
       "      <td>120.0</td>\n",
       "      <td>0.94</td>\n",
       "      <td>96.6</td>\n",
       "      <td>59.9</td>\n",
       "      <td>1.16</td>\n",
       "      <td>0.86</td>\n",
       "      <td>0</td>\n",
       "      <td>0</td>\n",
       "      <td>0</td>\n",
       "      <td>0</td>\n",
       "      <td>0</td>\n",
       "      <td>0</td>\n",
       "      <td>0</td>\n",
       "      <td>0</td>\n",
       "      <td>0</td>\n",
       "      <td>0.0</td>\n",
       "    </tr>\n",
       "    <tr>\n",
       "      <th>4</th>\n",
       "      <td>4</td>\n",
       "      <td>120.0</td>\n",
       "      <td>0.94</td>\n",
       "      <td>96.6</td>\n",
       "      <td>59.9</td>\n",
       "      <td>1.16</td>\n",
       "      <td>0.86</td>\n",
       "      <td>0</td>\n",
       "      <td>0</td>\n",
       "      <td>0</td>\n",
       "      <td>0</td>\n",
       "      <td>0</td>\n",
       "      <td>0</td>\n",
       "      <td>0</td>\n",
       "      <td>0</td>\n",
       "      <td>0</td>\n",
       "      <td>0.0</td>\n",
       "    </tr>\n",
       "  </tbody>\n",
       "</table>\n",
       "</div>"
      ],
      "text/plain": [
       "   weekday Voltage (V) Currennt (A) Power (PA) - Watts (W)  \\\n",
       "0  weekday     voltaje    corriente               potencia   \n",
       "1        4       120.1         0.93                   96.3   \n",
       "2        4       120.1         0.93                   96.3   \n",
       "3        4       120.0         0.94                   96.6   \n",
       "4        4       120.0         0.94                   96.6   \n",
       "\n",
       "  Frecuency - Hertz (Hz) Active Energy - kilowatts per hour (KWh)  \\\n",
       "0             frecuencia                                  energia   \n",
       "1                   60.0                                     1.16   \n",
       "2                   59.9                                     1.16   \n",
       "3                   59.9                                     1.16   \n",
       "4                   59.9                                     1.16   \n",
       "\n",
       "  Power factor - Adimentional ESP32 temperature - Centigrade Degrees (°C)  \\\n",
       "0                          fp                                  ESP32_temp   \n",
       "1                        0.86                                           0   \n",
       "2                        0.86                                           0   \n",
       "3                        0.86                                           0   \n",
       "4                        0.86                                           0   \n",
       "\n",
       "  CPU consumption - Percentage (%) CPU power consumption - Percentage (%)  \\\n",
       "0                  WORKSTATION_CPU                  WORKSTATION_CPU_POWER   \n",
       "1                                0                                      0   \n",
       "2                                0                                      0   \n",
       "3                                0                                      0   \n",
       "4                                0                                      0   \n",
       "\n",
       "  CPU temperature - Centigrade Degrees (°C) GPU consumption - Percentage (%)  \\\n",
       "0                      WORKSTATION_CPU_TEMP                  WORKSTATION_GPU   \n",
       "1                                         0                                0   \n",
       "2                                         0                                0   \n",
       "3                                         0                                0   \n",
       "4                                         0                                0   \n",
       "\n",
       "  GPU power consumption - Percentage (%)  \\\n",
       "0                  WORKSTATION_GPU_POWER   \n",
       "1                                      0   \n",
       "2                                      0   \n",
       "3                                      0   \n",
       "4                                      0   \n",
       "\n",
       "  GPU temperature - Centigrade Degrees (°C)  \\\n",
       "0                      WORKSTATION_GPU_TEMP   \n",
       "1                                         0   \n",
       "2                                         0   \n",
       "3                                         0   \n",
       "4                                         0   \n",
       "\n",
       "  RAM memory consumption - Percentage (%)  \\\n",
       "0                         WORKSTATION_RAM   \n",
       "1                                       0   \n",
       "2                                       0   \n",
       "3                                       0   \n",
       "4                                       0   \n",
       "\n",
       "  RAM memory power consumption - Percentage (%)  Server_temp  \n",
       "0                         WORKSTATION_RAM_POWER  Server_temp  \n",
       "1                                             0          0.0  \n",
       "2                                             0          0.0  \n",
       "3                                             0          0.0  \n",
       "4                                             0          0.0  "
      ]
     },
     "execution_count": 8,
     "metadata": {},
     "output_type": "execute_result"
    }
   ],
   "source": [
    "df.head()"
   ]
  },
  {
   "cell_type": "code",
   "execution_count": 9,
   "metadata": {},
   "outputs": [
    {
     "data": {
      "text/html": [
       "<div>\n",
       "<style scoped>\n",
       "    .dataframe tbody tr th:only-of-type {\n",
       "        vertical-align: middle;\n",
       "    }\n",
       "\n",
       "    .dataframe tbody tr th {\n",
       "        vertical-align: top;\n",
       "    }\n",
       "\n",
       "    .dataframe thead th {\n",
       "        text-align: right;\n",
       "    }\n",
       "</style>\n",
       "<table border=\"1\" class=\"dataframe\">\n",
       "  <thead>\n",
       "    <tr style=\"text-align: right;\">\n",
       "      <th></th>\n",
       "      <th>weekday</th>\n",
       "      <th>Voltage (V)</th>\n",
       "      <th>Currennt (A)</th>\n",
       "      <th>Power (PA) - Watts (W)</th>\n",
       "      <th>Frecuency - Hertz (Hz)</th>\n",
       "      <th>Active Energy - kilowatts per hour (KWh)</th>\n",
       "      <th>Power factor - Adimentional</th>\n",
       "      <th>ESP32 temperature - Centigrade Degrees (°C)</th>\n",
       "      <th>CPU consumption - Percentage (%)</th>\n",
       "      <th>CPU power consumption - Percentage (%)</th>\n",
       "      <th>CPU temperature - Centigrade Degrees (°C)</th>\n",
       "      <th>GPU consumption - Percentage (%)</th>\n",
       "      <th>GPU power consumption - Percentage (%)</th>\n",
       "      <th>GPU temperature - Centigrade Degrees (°C)</th>\n",
       "      <th>RAM memory consumption - Percentage (%)</th>\n",
       "      <th>RAM memory power consumption - Percentage (%)</th>\n",
       "      <th>Server_temp</th>\n",
       "    </tr>\n",
       "  </thead>\n",
       "  <tbody>\n",
       "    <tr>\n",
       "      <th>0</th>\n",
       "      <td>4</td>\n",
       "      <td>120.1</td>\n",
       "      <td>0.93</td>\n",
       "      <td>96.3</td>\n",
       "      <td>60.0</td>\n",
       "      <td>1.16</td>\n",
       "      <td>0.86</td>\n",
       "      <td>0</td>\n",
       "      <td>0</td>\n",
       "      <td>0</td>\n",
       "      <td>0</td>\n",
       "      <td>0</td>\n",
       "      <td>0</td>\n",
       "      <td>0</td>\n",
       "      <td>0</td>\n",
       "      <td>0</td>\n",
       "      <td>0.0</td>\n",
       "    </tr>\n",
       "    <tr>\n",
       "      <th>1</th>\n",
       "      <td>4</td>\n",
       "      <td>120.1</td>\n",
       "      <td>0.93</td>\n",
       "      <td>96.3</td>\n",
       "      <td>59.9</td>\n",
       "      <td>1.16</td>\n",
       "      <td>0.86</td>\n",
       "      <td>0</td>\n",
       "      <td>0</td>\n",
       "      <td>0</td>\n",
       "      <td>0</td>\n",
       "      <td>0</td>\n",
       "      <td>0</td>\n",
       "      <td>0</td>\n",
       "      <td>0</td>\n",
       "      <td>0</td>\n",
       "      <td>0.0</td>\n",
       "    </tr>\n",
       "    <tr>\n",
       "      <th>2</th>\n",
       "      <td>4</td>\n",
       "      <td>120.0</td>\n",
       "      <td>0.94</td>\n",
       "      <td>96.6</td>\n",
       "      <td>59.9</td>\n",
       "      <td>1.16</td>\n",
       "      <td>0.86</td>\n",
       "      <td>0</td>\n",
       "      <td>0</td>\n",
       "      <td>0</td>\n",
       "      <td>0</td>\n",
       "      <td>0</td>\n",
       "      <td>0</td>\n",
       "      <td>0</td>\n",
       "      <td>0</td>\n",
       "      <td>0</td>\n",
       "      <td>0.0</td>\n",
       "    </tr>\n",
       "    <tr>\n",
       "      <th>3</th>\n",
       "      <td>4</td>\n",
       "      <td>120.0</td>\n",
       "      <td>0.94</td>\n",
       "      <td>96.6</td>\n",
       "      <td>59.9</td>\n",
       "      <td>1.16</td>\n",
       "      <td>0.86</td>\n",
       "      <td>0</td>\n",
       "      <td>0</td>\n",
       "      <td>0</td>\n",
       "      <td>0</td>\n",
       "      <td>0</td>\n",
       "      <td>0</td>\n",
       "      <td>0</td>\n",
       "      <td>0</td>\n",
       "      <td>0</td>\n",
       "      <td>0.0</td>\n",
       "    </tr>\n",
       "    <tr>\n",
       "      <th>4</th>\n",
       "      <td>4</td>\n",
       "      <td>120.0</td>\n",
       "      <td>0.94</td>\n",
       "      <td>96.6</td>\n",
       "      <td>59.9</td>\n",
       "      <td>1.16</td>\n",
       "      <td>0.86</td>\n",
       "      <td>0</td>\n",
       "      <td>0</td>\n",
       "      <td>0</td>\n",
       "      <td>0</td>\n",
       "      <td>0</td>\n",
       "      <td>0</td>\n",
       "      <td>0</td>\n",
       "      <td>0</td>\n",
       "      <td>0</td>\n",
       "      <td>0.0</td>\n",
       "    </tr>\n",
       "  </tbody>\n",
       "</table>\n",
       "</div>"
      ],
      "text/plain": [
       "  weekday Voltage (V) Currennt (A) Power (PA) - Watts (W)  \\\n",
       "0       4       120.1         0.93                   96.3   \n",
       "1       4       120.1         0.93                   96.3   \n",
       "2       4       120.0         0.94                   96.6   \n",
       "3       4       120.0         0.94                   96.6   \n",
       "4       4       120.0         0.94                   96.6   \n",
       "\n",
       "  Frecuency - Hertz (Hz) Active Energy - kilowatts per hour (KWh)  \\\n",
       "0                   60.0                                     1.16   \n",
       "1                   59.9                                     1.16   \n",
       "2                   59.9                                     1.16   \n",
       "3                   59.9                                     1.16   \n",
       "4                   59.9                                     1.16   \n",
       "\n",
       "  Power factor - Adimentional ESP32 temperature - Centigrade Degrees (°C)  \\\n",
       "0                        0.86                                           0   \n",
       "1                        0.86                                           0   \n",
       "2                        0.86                                           0   \n",
       "3                        0.86                                           0   \n",
       "4                        0.86                                           0   \n",
       "\n",
       "  CPU consumption - Percentage (%) CPU power consumption - Percentage (%)  \\\n",
       "0                                0                                      0   \n",
       "1                                0                                      0   \n",
       "2                                0                                      0   \n",
       "3                                0                                      0   \n",
       "4                                0                                      0   \n",
       "\n",
       "  CPU temperature - Centigrade Degrees (°C) GPU consumption - Percentage (%)  \\\n",
       "0                                         0                                0   \n",
       "1                                         0                                0   \n",
       "2                                         0                                0   \n",
       "3                                         0                                0   \n",
       "4                                         0                                0   \n",
       "\n",
       "  GPU power consumption - Percentage (%)  \\\n",
       "0                                      0   \n",
       "1                                      0   \n",
       "2                                      0   \n",
       "3                                      0   \n",
       "4                                      0   \n",
       "\n",
       "  GPU temperature - Centigrade Degrees (°C)  \\\n",
       "0                                         0   \n",
       "1                                         0   \n",
       "2                                         0   \n",
       "3                                         0   \n",
       "4                                         0   \n",
       "\n",
       "  RAM memory consumption - Percentage (%)  \\\n",
       "0                                       0   \n",
       "1                                       0   \n",
       "2                                       0   \n",
       "3                                       0   \n",
       "4                                       0   \n",
       "\n",
       "  RAM memory power consumption - Percentage (%) Server_temp  \n",
       "0                                             0         0.0  \n",
       "1                                             0         0.0  \n",
       "2                                             0         0.0  \n",
       "3                                             0         0.0  \n",
       "4                                             0         0.0  "
      ]
     },
     "execution_count": 9,
     "metadata": {},
     "output_type": "execute_result"
    }
   ],
   "source": [
    "df = df.drop(0).reset_index(drop=True)\n",
    "df.head()"
   ]
  },
  {
   "cell_type": "code",
   "execution_count": 11,
   "metadata": {},
   "outputs": [
    {
     "name": "stdout",
     "output_type": "stream",
     "text": [
      "Collecting matplotlib\n",
      "  Downloading matplotlib-3.10.1-cp313-cp313-manylinux_2_17_x86_64.manylinux2014_x86_64.whl.metadata (11 kB)\n",
      "Requirement already satisfied: contourpy>=1.0.1 in /home/dhanush/Templates/cloud_rsrch/myenv/lib/python3.13/site-packages (from matplotlib) (1.3.1)\n",
      "Collecting cycler>=0.10 (from matplotlib)\n",
      "  Downloading cycler-0.12.1-py3-none-any.whl.metadata (3.8 kB)\n",
      "Collecting fonttools>=4.22.0 (from matplotlib)\n",
      "  Downloading fonttools-4.56.0-cp313-cp313-manylinux_2_5_x86_64.manylinux1_x86_64.manylinux_2_17_x86_64.manylinux2014_x86_64.whl.metadata (101 kB)\n",
      "Collecting kiwisolver>=1.3.1 (from matplotlib)\n",
      "  Downloading kiwisolver-1.4.8-cp313-cp313-manylinux_2_17_x86_64.manylinux2014_x86_64.whl.metadata (6.2 kB)\n",
      "Requirement already satisfied: numpy>=1.23 in /home/dhanush/Templates/cloud_rsrch/myenv/lib/python3.13/site-packages (from matplotlib) (2.2.4)\n",
      "Requirement already satisfied: packaging>=20.0 in /home/dhanush/Templates/cloud_rsrch/myenv/lib/python3.13/site-packages (from matplotlib) (24.2)\n",
      "Requirement already satisfied: pillow>=8 in /home/dhanush/Templates/cloud_rsrch/myenv/lib/python3.13/site-packages (from matplotlib) (11.1.0)\n",
      "Requirement already satisfied: pyparsing>=2.3.1 in /home/dhanush/Templates/cloud_rsrch/myenv/lib/python3.13/site-packages (from matplotlib) (3.2.1)\n",
      "Requirement already satisfied: python-dateutil>=2.7 in /home/dhanush/Templates/cloud_rsrch/myenv/lib/python3.13/site-packages (from matplotlib) (2.9.0.post0)\n",
      "Requirement already satisfied: six>=1.5 in /home/dhanush/Templates/cloud_rsrch/myenv/lib/python3.13/site-packages (from python-dateutil>=2.7->matplotlib) (1.17.0)\n",
      "Downloading matplotlib-3.10.1-cp313-cp313-manylinux_2_17_x86_64.manylinux2014_x86_64.whl (8.6 MB)\n",
      "\u001b[2K   \u001b[90m━━━━━━━━━━━━━━━━━━━━━━━━━━━━━━━━━━━━━━━━\u001b[0m \u001b[32m8.6/8.6 MB\u001b[0m \u001b[31m943.1 kB/s\u001b[0m eta \u001b[36m0:00:00\u001b[0m00:01\u001b[0m00:01\u001b[0m\n",
      "\u001b[?25hDownloading cycler-0.12.1-py3-none-any.whl (8.3 kB)\n",
      "Downloading fonttools-4.56.0-cp313-cp313-manylinux_2_5_x86_64.manylinux1_x86_64.manylinux_2_17_x86_64.manylinux2014_x86_64.whl (4.8 MB)\n",
      "\u001b[2K   \u001b[90m━━━━━━━━━━━━━━━━━━━━━━━━━━━━━━━━━━━━━━━━\u001b[0m \u001b[32m4.8/4.8 MB\u001b[0m \u001b[31m830.0 kB/s\u001b[0m eta \u001b[36m0:00:00\u001b[0m00:01\u001b[0m00:01\u001b[0m\n",
      "\u001b[?25hDownloading kiwisolver-1.4.8-cp313-cp313-manylinux_2_17_x86_64.manylinux2014_x86_64.whl (1.5 MB)\n",
      "\u001b[2K   \u001b[90m━━━━━━━━━━━━━━━━━━━━━━━━━━━━━━━━━━━━━━━━\u001b[0m \u001b[32m1.5/1.5 MB\u001b[0m \u001b[31m877.6 kB/s\u001b[0m eta \u001b[36m0:00:00\u001b[0ma \u001b[36m0:00:01\u001b[0m\n",
      "\u001b[?25hInstalling collected packages: kiwisolver, fonttools, cycler, matplotlib\n",
      "Successfully installed cycler-0.12.1 fonttools-4.56.0 kiwisolver-1.4.8 matplotlib-3.10.1\n",
      "Collecting seaborn\n",
      "  Downloading seaborn-0.13.2-py3-none-any.whl.metadata (5.4 kB)\n",
      "Requirement already satisfied: numpy!=1.24.0,>=1.20 in /home/dhanush/Templates/cloud_rsrch/myenv/lib/python3.13/site-packages (from seaborn) (2.2.4)\n",
      "Requirement already satisfied: pandas>=1.2 in /home/dhanush/Templates/cloud_rsrch/myenv/lib/python3.13/site-packages (from seaborn) (2.2.3)\n",
      "Requirement already satisfied: matplotlib!=3.6.1,>=3.4 in /home/dhanush/Templates/cloud_rsrch/myenv/lib/python3.13/site-packages (from seaborn) (3.10.1)\n",
      "Requirement already satisfied: contourpy>=1.0.1 in /home/dhanush/Templates/cloud_rsrch/myenv/lib/python3.13/site-packages (from matplotlib!=3.6.1,>=3.4->seaborn) (1.3.1)\n",
      "Requirement already satisfied: cycler>=0.10 in /home/dhanush/Templates/cloud_rsrch/myenv/lib/python3.13/site-packages (from matplotlib!=3.6.1,>=3.4->seaborn) (0.12.1)\n",
      "Requirement already satisfied: fonttools>=4.22.0 in /home/dhanush/Templates/cloud_rsrch/myenv/lib/python3.13/site-packages (from matplotlib!=3.6.1,>=3.4->seaborn) (4.56.0)\n",
      "Requirement already satisfied: kiwisolver>=1.3.1 in /home/dhanush/Templates/cloud_rsrch/myenv/lib/python3.13/site-packages (from matplotlib!=3.6.1,>=3.4->seaborn) (1.4.8)\n",
      "Requirement already satisfied: packaging>=20.0 in /home/dhanush/Templates/cloud_rsrch/myenv/lib/python3.13/site-packages (from matplotlib!=3.6.1,>=3.4->seaborn) (24.2)\n",
      "Requirement already satisfied: pillow>=8 in /home/dhanush/Templates/cloud_rsrch/myenv/lib/python3.13/site-packages (from matplotlib!=3.6.1,>=3.4->seaborn) (11.1.0)\n",
      "Requirement already satisfied: pyparsing>=2.3.1 in /home/dhanush/Templates/cloud_rsrch/myenv/lib/python3.13/site-packages (from matplotlib!=3.6.1,>=3.4->seaborn) (3.2.1)\n",
      "Requirement already satisfied: python-dateutil>=2.7 in /home/dhanush/Templates/cloud_rsrch/myenv/lib/python3.13/site-packages (from matplotlib!=3.6.1,>=3.4->seaborn) (2.9.0.post0)\n",
      "Requirement already satisfied: pytz>=2020.1 in /home/dhanush/Templates/cloud_rsrch/myenv/lib/python3.13/site-packages (from pandas>=1.2->seaborn) (2025.1)\n",
      "Requirement already satisfied: tzdata>=2022.7 in /home/dhanush/Templates/cloud_rsrch/myenv/lib/python3.13/site-packages (from pandas>=1.2->seaborn) (2025.1)\n",
      "Requirement already satisfied: six>=1.5 in /home/dhanush/Templates/cloud_rsrch/myenv/lib/python3.13/site-packages (from python-dateutil>=2.7->matplotlib!=3.6.1,>=3.4->seaborn) (1.17.0)\n",
      "Downloading seaborn-0.13.2-py3-none-any.whl (294 kB)\n",
      "Installing collected packages: seaborn\n",
      "Successfully installed seaborn-0.13.2\n"
     ]
    }
   ],
   "source": [
    "!pip install matplotlib\n",
    "!pip install seaborn"
   ]
  },
  {
   "cell_type": "code",
   "execution_count": 15,
   "metadata": {},
   "outputs": [],
   "source": [
    "df['CPU temperature - Centigrade Degrees (°C)'] = pd.to_numeric(df['CPU temperature - Centigrade Degrees (°C)'], errors='coerce')"
   ]
  },
  {
   "cell_type": "code",
   "execution_count": 18,
   "metadata": {},
   "outputs": [],
   "source": [
    "df.to_csv('../datasets/initial_clean.csv', index=False)"
   ]
  },
  {
   "cell_type": "code",
   "execution_count": 24,
   "metadata": {},
   "outputs": [
    {
     "data": {
      "text/plain": [
       "Index(['MAC', 'weekday', 'fecha_servidor', 'fecha_esp32', 'voltaje',\n",
       "       'corriente', 'potencia', 'frecuencia', 'energia', 'fp', 'ESP32_temp',\n",
       "       'WORKSTATION_CPU', 'WORKSTATION_CPU_POWER', 'WORKSTATION_CPU_TEMP',\n",
       "       'WORKSTATION_GPU', 'WORKSTATION_GPU_POWER', 'WORKSTATION_GPU_TEMP',\n",
       "       'WORKSTATION_RAM', 'WORKSTATION_RAM_POWER'],\n",
       "      dtype='object')"
      ]
     },
     "execution_count": 24,
     "metadata": {},
     "output_type": "execute_result"
    }
   ],
   "source": [
    "axd = pd.read_csv('../datasets/2agosto -dic 2021.csv', nrows=800000)\n",
    "axd.columns"
   ]
  },
  {
   "cell_type": "code",
   "execution_count": 26,
   "metadata": {},
   "outputs": [
    {
     "data": {
      "text/html": [
       "<div>\n",
       "<style scoped>\n",
       "    .dataframe tbody tr th:only-of-type {\n",
       "        vertical-align: middle;\n",
       "    }\n",
       "\n",
       "    .dataframe tbody tr th {\n",
       "        vertical-align: top;\n",
       "    }\n",
       "\n",
       "    .dataframe thead th {\n",
       "        text-align: right;\n",
       "    }\n",
       "</style>\n",
       "<table border=\"1\" class=\"dataframe\">\n",
       "  <thead>\n",
       "    <tr style=\"text-align: right;\">\n",
       "      <th></th>\n",
       "      <th>MAC</th>\n",
       "      <th>weekday</th>\n",
       "      <th>fecha_servidor</th>\n",
       "      <th>fecha_esp32</th>\n",
       "      <th>voltaje</th>\n",
       "      <th>corriente</th>\n",
       "      <th>potencia</th>\n",
       "      <th>frecuencia</th>\n",
       "      <th>energia</th>\n",
       "      <th>fp</th>\n",
       "      <th>ESP32_temp</th>\n",
       "      <th>WORKSTATION_CPU</th>\n",
       "      <th>WORKSTATION_CPU_POWER</th>\n",
       "      <th>WORKSTATION_CPU_TEMP</th>\n",
       "      <th>WORKSTATION_GPU</th>\n",
       "      <th>WORKSTATION_GPU_POWER</th>\n",
       "      <th>WORKSTATION_GPU_TEMP</th>\n",
       "      <th>WORKSTATION_RAM</th>\n",
       "      <th>WORKSTATION_RAM_POWER</th>\n",
       "    </tr>\n",
       "  </thead>\n",
       "  <tbody>\n",
       "    <tr>\n",
       "      <th>0</th>\n",
       "      <td>3C:61:05:12:96:30</td>\n",
       "      <td>4</td>\n",
       "      <td>2021-08-05 10:58:36</td>\n",
       "      <td>2021-08-05 10:58:36</td>\n",
       "      <td>120.5</td>\n",
       "      <td>0.02</td>\n",
       "      <td>0.0</td>\n",
       "      <td>60.0</td>\n",
       "      <td>171.89</td>\n",
       "      <td>0.0</td>\n",
       "      <td>23.89</td>\n",
       "      <td>0.0</td>\n",
       "      <td>0.0</td>\n",
       "      <td>0</td>\n",
       "      <td>0</td>\n",
       "      <td>0</td>\n",
       "      <td>0.0</td>\n",
       "      <td>0.0</td>\n",
       "      <td>0.0</td>\n",
       "    </tr>\n",
       "    <tr>\n",
       "      <th>1</th>\n",
       "      <td>3C:61:05:12:96:30</td>\n",
       "      <td>4</td>\n",
       "      <td>2021-08-05 10:58:37</td>\n",
       "      <td>2021-08-05 10:58:37</td>\n",
       "      <td>120.5</td>\n",
       "      <td>0.02</td>\n",
       "      <td>0.0</td>\n",
       "      <td>59.9</td>\n",
       "      <td>171.89</td>\n",
       "      <td>0.0</td>\n",
       "      <td>24.44</td>\n",
       "      <td>0.0</td>\n",
       "      <td>0.0</td>\n",
       "      <td>0</td>\n",
       "      <td>0</td>\n",
       "      <td>0</td>\n",
       "      <td>0.0</td>\n",
       "      <td>0.0</td>\n",
       "      <td>0.0</td>\n",
       "    </tr>\n",
       "    <tr>\n",
       "      <th>2</th>\n",
       "      <td>3C:61:05:12:96:30</td>\n",
       "      <td>4</td>\n",
       "      <td>2021-08-05 10:58:38</td>\n",
       "      <td>2021-08-05 10:58:38</td>\n",
       "      <td>120.5</td>\n",
       "      <td>0.02</td>\n",
       "      <td>0.0</td>\n",
       "      <td>60.0</td>\n",
       "      <td>171.89</td>\n",
       "      <td>0.0</td>\n",
       "      <td>24.44</td>\n",
       "      <td>0.0</td>\n",
       "      <td>0.0</td>\n",
       "      <td>0</td>\n",
       "      <td>0</td>\n",
       "      <td>0</td>\n",
       "      <td>0.0</td>\n",
       "      <td>0.0</td>\n",
       "      <td>0.0</td>\n",
       "    </tr>\n",
       "    <tr>\n",
       "      <th>3</th>\n",
       "      <td>3C:61:05:12:96:30</td>\n",
       "      <td>4</td>\n",
       "      <td>2021-08-05 10:58:39</td>\n",
       "      <td>2021-08-05 10:58:39</td>\n",
       "      <td>120.5</td>\n",
       "      <td>0.02</td>\n",
       "      <td>0.0</td>\n",
       "      <td>60.0</td>\n",
       "      <td>171.89</td>\n",
       "      <td>0.0</td>\n",
       "      <td>24.44</td>\n",
       "      <td>0.0</td>\n",
       "      <td>0.0</td>\n",
       "      <td>0</td>\n",
       "      <td>0</td>\n",
       "      <td>0</td>\n",
       "      <td>0.0</td>\n",
       "      <td>0.0</td>\n",
       "      <td>0.0</td>\n",
       "    </tr>\n",
       "    <tr>\n",
       "      <th>4</th>\n",
       "      <td>3C:61:05:12:96:30</td>\n",
       "      <td>4</td>\n",
       "      <td>2021-08-05 10:58:40</td>\n",
       "      <td>2021-08-05 10:58:40</td>\n",
       "      <td>120.5</td>\n",
       "      <td>0.02</td>\n",
       "      <td>0.0</td>\n",
       "      <td>59.9</td>\n",
       "      <td>171.89</td>\n",
       "      <td>0.0</td>\n",
       "      <td>25.00</td>\n",
       "      <td>0.0</td>\n",
       "      <td>0.0</td>\n",
       "      <td>0</td>\n",
       "      <td>0</td>\n",
       "      <td>0</td>\n",
       "      <td>0.0</td>\n",
       "      <td>0.0</td>\n",
       "      <td>0.0</td>\n",
       "    </tr>\n",
       "  </tbody>\n",
       "</table>\n",
       "</div>"
      ],
      "text/plain": [
       "                 MAC  weekday       fecha_servidor          fecha_esp32  \\\n",
       "0  3C:61:05:12:96:30        4  2021-08-05 10:58:36  2021-08-05 10:58:36   \n",
       "1  3C:61:05:12:96:30        4  2021-08-05 10:58:37  2021-08-05 10:58:37   \n",
       "2  3C:61:05:12:96:30        4  2021-08-05 10:58:38  2021-08-05 10:58:38   \n",
       "3  3C:61:05:12:96:30        4  2021-08-05 10:58:39  2021-08-05 10:58:39   \n",
       "4  3C:61:05:12:96:30        4  2021-08-05 10:58:40  2021-08-05 10:58:40   \n",
       "\n",
       "   voltaje  corriente  potencia  frecuencia  energia   fp  ESP32_temp  \\\n",
       "0    120.5       0.02       0.0        60.0   171.89  0.0       23.89   \n",
       "1    120.5       0.02       0.0        59.9   171.89  0.0       24.44   \n",
       "2    120.5       0.02       0.0        60.0   171.89  0.0       24.44   \n",
       "3    120.5       0.02       0.0        60.0   171.89  0.0       24.44   \n",
       "4    120.5       0.02       0.0        59.9   171.89  0.0       25.00   \n",
       "\n",
       "   WORKSTATION_CPU  WORKSTATION_CPU_POWER  WORKSTATION_CPU_TEMP  \\\n",
       "0              0.0                    0.0                     0   \n",
       "1              0.0                    0.0                     0   \n",
       "2              0.0                    0.0                     0   \n",
       "3              0.0                    0.0                     0   \n",
       "4              0.0                    0.0                     0   \n",
       "\n",
       "   WORKSTATION_GPU  WORKSTATION_GPU_POWER  WORKSTATION_GPU_TEMP  \\\n",
       "0                0                      0                   0.0   \n",
       "1                0                      0                   0.0   \n",
       "2                0                      0                   0.0   \n",
       "3                0                      0                   0.0   \n",
       "4                0                      0                   0.0   \n",
       "\n",
       "   WORKSTATION_RAM  WORKSTATION_RAM_POWER  \n",
       "0              0.0                    0.0  \n",
       "1              0.0                    0.0  \n",
       "2              0.0                    0.0  \n",
       "3              0.0                    0.0  \n",
       "4              0.0                    0.0  "
      ]
     },
     "execution_count": 26,
     "metadata": {},
     "output_type": "execute_result"
    }
   ],
   "source": [
    "axd.head()"
   ]
  },
  {
   "cell_type": "code",
   "execution_count": 27,
   "metadata": {},
   "outputs": [],
   "source": [
    "axd['WORKSTATION_CPU_TEMP'] = pd.to_numeric(axd['WORKSTATION_CPU_TEMP'], errors='coerce')"
   ]
  },
  {
   "cell_type": "code",
   "execution_count": 29,
   "metadata": {},
   "outputs": [
    {
     "data": {
      "image/png": "[encoded data removed]",
      "text/plain": [
       "<Figure size 1000x600 with 1 Axes>"
      ]
     },
     "metadata": {},
     "output_type": "display_data"
    }
   ],
   "source": [
    "import matplotlib.pyplot as plt\n",
    "\n",
    "plt.figure(figsize=(10, 6))\n",
    "plt.scatter(axd.index, axd['WORKSTATION_CPU_TEMP'], color='blue', marker='o', label='Server Temperature')\n",
    "\n",
    "plt.title('Server Temperature Points')\n",
    "plt.xlabel('Index')\n",
    "plt.ylabel('Server Temperature (°C)')\n",
    "plt.grid(True)\n",
    "plt.legend()\n",
    "\n",
    "plt.show()\n"
   ]
  },
  {
   "cell_type": "code",
   "execution_count": 2,
   "metadata": {},
   "outputs": [],
   "source": [
    "input_file = '../datasets/fixed_aug-dec.csv'\n",
    "output_file = '../datasets/cleaned.csv'\n",
    "\n",
    "chunk_size = 100000\n",
    "processed_rows = 0\n",
    "\n",
    "with pd.read_csv(input_file, chunksize=chunk_size) as reader:\n",
    "    for i, chunk in enumerate(reader):\n",
    "        chunk = chunk[chunk['WORKSTATION_CPU_TEMP'] != 0]\n",
    "\n",
    "        if i == 0:\n",
    "            chunk.to_csv(output_file, index=False, mode='w')\n",
    "        else:\n",
    "            chunk.to_csv(output_file, index=False, mode='a', header=False)"
   ]
  },
  {
   "cell_type": "code",
   "execution_count": 3,
   "metadata": {},
   "outputs": [
    {
     "data": {
      "text/plain": [
       "(2746224, 19)"
      ]
     },
     "execution_count": 3,
     "metadata": {},
     "output_type": "execute_result"
    }
   ],
   "source": [
    "df = pd.read_csv(output_file)\n",
    "df.shape\n"
   ]
  },
  {
   "cell_type": "code",
   "execution_count": 5,
   "metadata": {},
   "outputs": [
    {
     "name": "stderr",
     "output_type": "stream",
     "text": [
      "/home/dhanush/Templates/cloud_rsrch/myenv/lib/python3.13/site-packages/IPython/core/pylabtools.py:170: UserWarning: Creating legend with loc=\"best\" can be slow with large amounts of data.\n",
      "  fig.canvas.print_figure(bytes_io, **kw)\n"
     ]
    },
    {
     "data": {
      "image/png": "[encoded data removed]",
      "text/plain": [
       "<Figure size 1000x600 with 1 Axes>"
      ]
     },
     "metadata": {},
     "output_type": "display_data"
    }
   ],
   "source": [
    "import matplotlib.pyplot as plt\n",
    "\n",
    "plt.figure(figsize=(10, 6))\n",
    "plt.scatter(df.index, df['WORKSTATION_CPU_TEMP'], color='blue', marker='o', label='Server Temperature')\n",
    "\n",
    "plt.title('Server Temperature Points')\n",
    "plt.xlabel('Index')\n",
    "plt.ylabel('Server Temperature (°C)')\n",
    "plt.grid(True)\n",
    "plt.legend()\n",
    "\n",
    "plt.show()\n"
   ]
  },
  {
   "cell_type": "code",
   "execution_count": 6,
   "metadata": {},
   "outputs": [
    {
     "data": {
      "text/plain": [
       "Index(['MAC', 'weekday', 'fecha_servidor', 'fecha_esp32', 'voltaje',\n",
       "       'corriente', 'potencia', 'frecuencia', 'energia', 'fp', 'ESP32_temp',\n",
       "       'WORKSTATION_CPU', 'WORKSTATION_CPU_POWER', 'WORKSTATION_CPU_TEMP',\n",
       "       'WORKSTATION_GPU', 'WORKSTATION_GPU_POWER', 'WORKSTATION_GPU_TEMP',\n",
       "       'WORKSTATION_RAM', 'WORKSTATION_RAM_POWER'],\n",
       "      dtype='object')"
      ]
     },
     "execution_count": 6,
     "metadata": {},
     "output_type": "execute_result"
    }
   ],
   "source": [
    "df.columns"
   ]
  },
  {
   "cell_type": "code",
   "execution_count": 7,
   "metadata": {},
   "outputs": [],
   "source": [
    "df = df.rename(columns={\n",
    "    'voltaje': 'Voltage (V)',\n",
    "    'corriente': 'Current (A)',\n",
    "    'potencia': 'Power (PA) - Watts (W)',\n",
    "    'frecuencia': 'Frequency - Hertz (Hz)',\n",
    "    'energia': 'Active Energy - kilowatts per hour (KWh)',\n",
    "    'fp': 'Power factor - Adimentional',\n",
    "    'ESP32_temp': 'ESP32 temperature - Centigrade Degrees (°C)',\n",
    "    'WORKSTATION_CPU': 'CPU consumption - Percentage (%)',\n",
    "    'WORKSTATION_CPU_POWER': 'CPU power consumption - Percentage (%)',\n",
    "    'WORKSTATION_CPU_TEMP': 'CPU temperature - Centigrade Degrees (°C)',\n",
    "    'WORKSTATION_GPU': 'GPU consumption - Percentage (%)',\n",
    "    'WORKSTATION_GPU_POWER': 'GPU power consumption - Percentage (%)',\n",
    "    'WORKSTATION_GPU_TEMP': 'GPU temperature - Centigrade Degrees (°C)',\n",
    "    'WORKSTATION_RAM': 'RAM memory consumption - Percentage (%)',\n",
    "    'WORKSTATION_RAM_POWER': 'RAM memory power consumption - Percentage (%)'\n",
    "})\n"
   ]
  },
  {
   "cell_type": "code",
   "execution_count": 8,
   "metadata": {},
   "outputs": [],
   "source": [
    "df.to_csv('../datasets/checked.csv', index=False)"
   ]
  },
  {
   "cell_type": "code",
   "execution_count": 9,
   "metadata": {},
   "outputs": [
    {
     "data": {
      "text/plain": [
       "Index(['MAC', 'weekday', 'fecha_servidor', 'fecha_esp32', 'Voltage (V)',\n",
       "       'Current (A)', 'Power (PA) - Watts (W)', 'Frequency - Hertz (Hz)',\n",
       "       'Active Energy - kilowatts per hour (KWh)',\n",
       "       'Power factor - Adimentional',\n",
       "       'ESP32 temperature - Centigrade Degrees (°C)',\n",
       "       'CPU consumption - Percentage (%)',\n",
       "       'CPU power consumption - Percentage (%)',\n",
       "       'CPU temperature - Centigrade Degrees (°C)',\n",
       "       'GPU consumption - Percentage (%)',\n",
       "       'GPU power consumption - Percentage (%)',\n",
       "       'GPU temperature - Centigrade Degrees (°C)',\n",
       "       'RAM memory consumption - Percentage (%)',\n",
       "       'RAM memory power consumption - Percentage (%)'],\n",
       "      dtype='object')"
      ]
     },
     "execution_count": 9,
     "metadata": {},
     "output_type": "execute_result"
    }
   ],
   "source": [
    "df = pd.read_csv('../datasets/checked.csv')\n",
    "df.columns"
   ]
  },
  {
   "cell_type": "code",
   "execution_count": 10,
   "metadata": {},
   "outputs": [
    {
     "data": {
      "text/plain": [
       "(2746224, 19)"
      ]
     },
     "execution_count": 10,
     "metadata": {},
     "output_type": "execute_result"
    }
   ],
   "source": [
    "df.shape"
   ]
  }
 ],
 "metadata": {
  "kernelspec": {
   "display_name": "myenv",
   "language": "python",
   "name": "python3"
  },
  "language_info": {
   "codemirror_mode": {
    "name": "ipython",
    "version": 3
   },
   "file_extension": ".py",
   "mimetype": "text/x-python",
   "name": "python",
   "nbconvert_exporter": "python",
   "pygments_lexer": "ipython3",
   "version": "3.13.2"
  }
 },
 "nbformat": 4,
 "nbformat_minor": 2
}
